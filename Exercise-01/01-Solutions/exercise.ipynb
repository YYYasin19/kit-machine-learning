{
 "cells": [
  {
   "cell_type": "markdown",
   "metadata": {},
   "source": [
    "# EXERCISE 1 - ML - Grundverfahren\n",
    "\n"
   ]
  },
  {
   "cell_type": "markdown",
   "metadata": {},
   "source": [
    "## Submission Instructions\n",
    "Please follow the steps before submission:<br>\n",
    "1. Make sure that every cell is executed and the output is printed.\n",
    "2. Create a PdF of the Jupyter notebook via *File $\\rightarrow$ ... $\\rightarrow$ PDF via LaTeX (.pdf)* or\n",
    " *File $\\rightarrow$ Print Preview $\\rightarrow$ Use your favorit PDF printing program*\n",
    "3. Zip your created PdF file and your original notebook, i.e. the .ipynb file,\n",
    "as well as your separate pen and paper solution if existent together.\n",
    "4. Rename your zip file with the following naming convention: group_y_uxxxx_uxxxx_uxxxx\n",
    "where y is your group number, uxxxx is the kit user from each group member/\n",
    "5. Upload the zip file to Ilias. Please make sure that every group member uploads the group submission."
   ]
  },
  {
   "cell_type": "markdown",
   "metadata": {},
   "source": [
    "## 1.) Linear Regression"
   ]
  },
  {
   "cell_type": "markdown",
   "metadata": {},
   "source": [
    "### 1.1) Matrix Vector Calculus (1 Point)\n",
    "Rewrite the following expression as a matrix-vector product\n",
    "\n",
    "\\begin{align*}\n",
    "        g = \\alpha \\sum_i q_i \\sum_j x_{ij} \\sum_k y_{jk}z_k\n",
    "\\end{align*}\n",
    "\n",
    "\n",
    "#### $\\Rightarrow$ Rewriting the expression as a matrix-vector product yields:\n",
    "\n",
    "\\begin{align*}\n",
    "        g = \\alpha \\:\n",
    "        \\begin{pmatrix}\n",
    "            q_0 \\\\ q_1 \\\\ ... \\\\ q_{m-1}\n",
    "        \\end{pmatrix}^\\intercal\n",
    "        \\begin{bmatrix}\n",
    "            x_{0,0} & x_{0,1} & ... & x_{0,n-1} \\\\\n",
    "            x_{1,0} & x_{1,1} & ... & x_{1,n-1} \\\\\n",
    "            ...     & ...     & ... & ...       \\\\\n",
    "            x_{m-1,0} & x_{m-1,1} & ... & x_{m-1,n-1}\n",
    "        \\end{bmatrix}\n",
    "        \\begin{bmatrix}\n",
    "            x_{0,0} & x_{0,1} & ... & x_{0,o-1} \\\\\n",
    "            x_{1,0} & x_{1,1} & ... & x_{1,o-1} \\\\\n",
    "            ...     & ...     & ... & ...       \\\\\n",
    "            x_{n-1,0} & x_{n-1,1} & ... & x_{n-1,o-1}\n",
    "        \\end{bmatrix}\n",
    "        \\begin{pmatrix}\n",
    "            z_0 \\\\ z_1 \\\\ ... \\\\ q_{o-1}\n",
    "        \\end{pmatrix}\n",
    "\\end{align*}\n",
    "\n"
   ]
  },
  {
   "cell_type": "markdown",
   "metadata": {},
   "source": [
    "### Ridge Regression\n",
    "\n",
    "Let's first get the data\n"
   ]
  },
  {
   "cell_type": "code",
   "execution_count": 11,
   "metadata": {},
   "outputs": [
    {
     "data": {
      "text/plain": [
       "<matplotlib.legend.Legend at 0xba3aaf0>"
      ]
     },
     "execution_count": 11,
     "metadata": {},
     "output_type": "execute_result"
    },
    {
     "data": {
      "image/png": "[encoded data removed]",
      "text/plain": [
       "<Figure size 432x288 with 1 Axes>"
      ]
     },
     "metadata": {
      "needs_background": "light"
     },
     "output_type": "display_data"
    }
   ],
   "source": [
    "import numpy as np\n",
    "import matplotlib.pyplot as plt\n",
    "from typing import Tuple\n",
    "\n",
    "# Load data\n",
    "\n",
    "training_data = np.load('training_data.npy')\n",
    "test_data = np.load('test_data.npy')\n",
    "\n",
    "test_data_x = test_data[:, 0]\n",
    "test_data_y = test_data[:, 1]\n",
    "\n",
    "training_data_x = training_data[:, 0]\n",
    "training_data_y = training_data[:, 1]\n",
    "\n",
    "# Visualize data\n",
    "plt.plot(test_data_x, test_data_y, 'r')\n",
    "plt.plot(training_data_x, training_data_y, 'ob')\n",
    "plt.xlabel('x')\n",
    "plt.ylabel('y')\n",
    "plt.legend([\"training data\", \"test_data\"])"
   ]
  },
  {
   "cell_type": "markdown",
   "metadata": {},
   "source": [
    "As in the lecture notebook, we will use polynomial-features here again. The following functions will be used for calculating polynomial features, evaluating the model and calculating the Mean Squarred Error for assigning a performance to each model. <br><br>\n",
    "Note that we have a different function called 'get_mean_std_trainset_features' here. This function will return the mean and the standard devition of the training feature matrix. We will use the mean and the standard deviation to normalize our features according to:\n",
    "\\begin{align*}\n",
    "    \\boldsymbol{\\tilde{\\Phi}} = \\frac{\\boldsymbol{\\Phi}(\\boldsymbol{x}) - \\boldsymbol{\\mu}_{\\Phi}}{\\boldsymbol{\\sigma}_{\\Phi}}, \n",
    "\\end{align*}\n",
    "where $\\boldsymbol{\\tilde{\\Phi}}$ are the (approximately) normalized features to any input\n",
    "$\\boldsymbol{x}$ (not necessarily the training data), $\\boldsymbol{\\mu}_{\\Phi}$ is the mean of the features applied to the training data and $\\boldsymbol{\\sigma}_{\\Phi}$ is the standard deviation of the features applied to the training data for each dimension.<br>\n",
    "Normalization is a standard technique used in Regression to avoid numerical problems and to obtain better fits for the weight vectors $\\boldsymbol{w}$. Especially when the features transform the inputs to a very high value range, normalization is very useful. In this homework we will use features of degree 10. Since the input range of the data is roughly from -4 to 4 this will lead to very high values for higher order degrees. By normalizing each dimension of the feature matrix, we will map each dimension of the feature matrix applied to the training data to a zero mean unit variance distribution. "
   ]
  },
  {
   "cell_type": "code",
   "execution_count": 12,
   "metadata": {},
   "outputs": [],
   "source": [
    "# Function for calculating the mean and standard deviation of the training feature set\n",
    "def get_mean_std_trainset_features(data: np.ndarray, degree:float) -> Tuple[np.ndarray, np.ndarray]:\n",
    "    \"\"\"\n",
    "    :param data: training data points, shape: [n_samples](we have 1-dim data)\n",
    "    :param degree: degree of your polynomial, shape: scalar\n",
    "    :return mean_feat: mean vector of the features applied to the training data, shape:[1 x (degrees+1)]\n",
    "    :return std_feat: standard deviation vector(standard deviation for each dimension in feature matrix),\n",
    "                      shape: [1 x (degrees+1)] \n",
    "    \"\"\"\n",
    "    unnormalized_features = get_polynomial_features(data, degree, None, None)\n",
    "    mean_feat = np.mean(unnormalized_features, axis=0, keepdims=True)\n",
    "    mean_feat[:, 0] = 0.0 # we don't want to normalize the bias\n",
    "    std_feat = np.std(unnormalized_features, axis=0, keepdims=True)\n",
    "    std_feat[:, 0] = 1.0 # we don't want to normalize the bias\n",
    "    return mean_feat, std_feat\n",
    "\n",
    "# Function to create Feature Matrix\n",
    "def get_polynomial_features(data: np.ndarray, degree:float, mean_train_features: np.ndarray, std_train_features: np.ndarray) ->np.ndarray:\n",
    "    \"\"\"\n",
    "    :param data: data points you want to evaluate the polynomials, shape: [n_samples] (we have 1-dim data) \n",
    "    :param degree: degree of your polynomial, shape: scalar\n",
    "    :param mean_train_features: mean of the feature matrix for the training set, shape:[1 x (degrees+1)]\n",
    "    :param std_train_features: standard deviation of the feature matrix for the training set, shape: [1 x (degrees+1)]\n",
    "    :return features: feature matrix, shape: [n_data x (degree+1)]  \n",
    "    Extends the feature matrix according to the matrix form discussed in the lectures. \n",
    "    \"\"\"\n",
    "    features = np.ones(data.shape)\n",
    "    for i in range(degree):\n",
    "        features = np.column_stack((features, (data)**(i+1)))\n",
    "    \n",
    "    if mean_train_features is not None: # if mean_test_features is None, do not normalize\n",
    "        # note: features: (n_samplesxn_dims), mean_train_features: (1xn_dims), std_train_features: (1xn_dims)\n",
    "        #       due to these dimensionalities we can do element-wise operations. By this we normalize each \n",
    "        #       dimension independantly\n",
    "        norm_feat = (features-mean_train_features)/(std_train_features)\n",
    "        return norm_feat\n",
    "    else:\n",
    "        return features\n",
    "\n",
    "# Evaluate the models\n",
    "\n",
    "def eval(Phi:np.ndarray, w:np.ndarray)->np.ndarray:\n",
    "    \"\"\"\n",
    "    : param Phi: Feature matrix, shape: [n_data x (degree+1)]\n",
    "    : param w: weight vector, shape: [degree + 1] \n",
    "    : return : predictions, shape [n_data] (we have 1-dim data)\n",
    "    Evaluates your model\n",
    "    \"\"\"\n",
    "    return np.dot(Phi, w)\n",
    "\n",
    "\n",
    "def mse(y_target:np.ndarray, y_pred:np.ndarray)->np.ndarray:\n",
    "    \"\"\"\n",
    "    :param y_target: the target outputs, which we want to have, shape: [n_data] (here 1-dim data)\n",
    "    :param y_pred: the predicted outputs, shape: [n_data](we have 1-dim data)\n",
    "    :return : The Mean Squared Error, shape: scalar\n",
    "    \"\"\"\n",
    "    dif = y_target - y_pred\n",
    "    return np.sum(dif ** 2, axis=0) / y_pred.shape[0]"
   ]
  },
  {
   "cell_type": "markdown",
   "metadata": {},
   "source": [
    "### 1.2) Ridge Regression Weights (4 Points)\n",
    "Derive the weight updates for ridge regressin in matrix form. Hint: You will need derivatives for vectors/matrices. Start\n",
    "from the matrix objective for ridge regression as stated here\n",
    "\n",
    "\\begin{align*}\n",
    "L &= (\\boldsymbol{y}-\\boldsymbol{\\Phi} \\boldsymbol{w})^T(\\boldsymbol{y}-\\boldsymbol{\\Phi} \\boldsymbol{w}) + \\lambda \\boldsymbol{w}^T \\boldsymbol{I} \\boldsymbol{w}. \\\\\n",
    "\\end{align*}\n",
    "\n",
    "\n",
    "#### $\\Rightarrow$ Rewriting the equation above gives:\n",
    "\\begin{align*}\n",
    "    L &= \\boldsymbol{w}^T \\boldsymbol{\\Phi}^T \\boldsymbol{\\Phi} \\boldsymbol{w} - \\boldsymbol{y}^T \\boldsymbol{\\Phi} \\boldsymbol{w} - \\boldsymbol{w}^T \\boldsymbol{\\Phi}^T \\boldsymbol{y} + \\boldsymbol{y}^T \\boldsymbol{y} + \\lambda \\boldsymbol{w}^T \\boldsymbol{I} \\boldsymbol{w} \\\\\n",
    "    &= \\boldsymbol{w}^T \\boldsymbol{\\Phi}^T \\boldsymbol{\\Phi} \\boldsymbol{w} - 2 \\boldsymbol{y}^T \\boldsymbol{\\Phi} \\boldsymbol{w} + \\boldsymbol{y}^T \\boldsymbol{y} + \\lambda \\boldsymbol{w}^T \\boldsymbol{I} \\boldsymbol{w} \\\\\n",
    "\\end{align*}\n",
    "\n",
    "#### $\\Rightarrow$ Taking the derivative w.r.t. $\\boldsymbol{w}$ yields:\n",
    "\\begin{align*}\n",
    "    \\nabla_w {L} &= \\frac{\\partial }{\\partial w} \n",
    "    \\left\\{ \n",
    "         \\boldsymbol{w}^T \\boldsymbol{\\Phi}^T \\boldsymbol{\\Phi} \\boldsymbol{w} - 2 \\boldsymbol{y}^T \\boldsymbol{\\Phi} \\boldsymbol{w} + \\boldsymbol{y}^T \\boldsymbol{y} + \\lambda \\boldsymbol{w}^T \\boldsymbol{I} \\boldsymbol{w}\n",
    "    \\right\\} \\\\\n",
    "    &= \\frac{\\partial }{\\partial w} \n",
    "    \\left\\{ \n",
    "        \\boldsymbol{w}^T \\boldsymbol{\\Phi}^T \\boldsymbol{\\Phi} \\boldsymbol{w} - 2 \\boldsymbol{y}^T \\boldsymbol{\\Phi} \\boldsymbol{w} + \\lambda \\boldsymbol{w}^T \\boldsymbol{I} \\boldsymbol{w}\n",
    "    \\right\\} \\\\\n",
    "    &= 2 \\boldsymbol{\\Phi}^T \\boldsymbol{\\Phi} \\boldsymbol{w} - 2 \\boldsymbol{\\Phi}^T \\boldsymbol{y} + 2 \\lambda \\boldsymbol{I} \\boldsymbol{w}\n",
    "    \\stackrel{!}{=} 0\n",
    "\\end{align*}\n",
    "\n",
    "#### $\\Rightarrow$ Setting the gradient to 0 yields:\n",
    "\\begin{align*}\n",
    "    2 \\boldsymbol{\\Phi}^T \\boldsymbol{\\Phi} \\boldsymbol{w} - 2 \\boldsymbol{\\Phi}^T \\boldsymbol{y} + 2 \\lambda \\boldsymbol{I} \\boldsymbol{w} &= 0 \\\\\n",
    "    \\boldsymbol{\\Phi}^T \\boldsymbol{\\Phi} \\boldsymbol{w} - \\boldsymbol{\\Phi}^T \\boldsymbol{y} + \\lambda \\boldsymbol{I} \\boldsymbol{w} &= 0 \\\\\n",
    "    \\boldsymbol{\\Phi}^T \\boldsymbol{\\Phi} \\boldsymbol{w} + \\lambda \\boldsymbol{I} \\boldsymbol{w} &= \\boldsymbol{\\Phi}^T \\boldsymbol{y} \\\\\n",
    "    \\left( \\boldsymbol{\\Phi}^T \\boldsymbol{\\Phi} + \\lambda \\boldsymbol{I} \\right) \\boldsymbol{w} &= \\boldsymbol{\\Phi}^T \\boldsymbol{y} \\\\\n",
    "    \\boldsymbol{w} &= \\left( \\boldsymbol{\\Phi}^T \\boldsymbol{\\Phi} + \\lambda \\boldsymbol{I}\\right)^{-1} \\boldsymbol{\\Phi}^T \\boldsymbol{y}\n",
    "\\end{align*}"
   ]
  },
  {
   "cell_type": "markdown",
   "metadata": {},
   "source": [
    "### 1.3) Implement Ridge Regression Weights (2 Point)\n",
    "The following function will calculate the weights for ridge regression. Fill in the missing code according to the formula for calculating the weight updates for ridge regression. <br>\n",
    "Recall that the formula is given by \n",
    "\\begin{align*}\n",
    "    \\boldsymbol{w} &= (\\boldsymbol{\\Phi} ^T \\boldsymbol{\\Phi} + \\lambda \\boldsymbol{I} )^{-1} \\boldsymbol{\\Phi}^T \\boldsymbol{y},\n",
    "\\end{align*}\n",
    "where $\\boldsymbol{\\Phi}$ is the feature matrix (the matrix storing the data points applied to the polynomial features). Hint: use np.linalg.solve for solving for the linear equation. If you got confused because of the normalization described before, don't worry, you do not need to consider it here :)"
   ]
  },
  {
   "cell_type": "code",
   "execution_count": 13,
   "metadata": {},
   "outputs": [],
   "source": [
    "def calc_weights_ridge(Phi:np.ndarray, y:np.ndarray, ridge_factor:float)->np.ndarray:\n",
    "    \"\"\"\n",
    "    :param Phi: Feature Matrix, shape: [n_data x (degree+1)]\n",
    "    :param y: Output Values, [n_data] (we have 1-dim data)\n",
    "    :param ridge_factor: lambda value, shape: scalar\n",
    "    :return : The weight vector, calculated according to the equation shown before, shape: [degrees +1]\n",
    "    \"\"\"\n",
    "    \n",
    "    ## DONE\n",
    "    dot = np.dot(Phi.T, Phi)\n",
    "    summed = dot + ridge_factor * np.identity(len(Phi)+1)\n",
    "    solved = np.linalg.solve(summed, Phi.T) # np.identity(len(Phi)+1)) \n",
    "    # is it possible to solve for Phi to make next step redundant?\n",
    "    # dotted = np.dot(solved, Phi.T)\n",
    "    \n",
    "    return np.dot(solved, y) # dotted, y)\n",
    "    # DONE"
   ]
  },
  {
   "cell_type": "markdown",
   "metadata": {},
   "source": [
    "For demonstrating ridge regression we will pick the polynomial degree of 10. In the lecture notebook we have seen that this model is highly overfitting to the data. We will investigate the role of the ridge factor $\\lambda$. For that purpose we first need to calculate the weights for different $\\lambda$ values. <br>\n",
    "We will pick $\\lambda = [1e-{6}, 1e-{3}, 1, 3, 5,10,20,30,40,50, 1e2, 1e3, 1e5]$ to see the differences of the values. <br><br>\n",
    "Practical note. We use here very high values for $\\lambda$ for demonstration purposes here. In practice we would not choose a model where we know from beginning that it is highly overfitting. When choosing an appropriate model, the value needed for $\\lambda$ automatically will be small (often in the range of $1e^{-6}$ or smaller)."
   ]
  },
  {
   "cell_type": "code",
   "execution_count": 14,
   "metadata": {},
   "outputs": [],
   "source": [
    "# Let's do it on polynomial degree 10 and see the results\n",
    "\n",
    "# first we get the mean and the standard deviation of the training feature matrix, which we will use for normalization\n",
    "mean_train_feat, std_train_feat = get_mean_std_trainset_features(training_data_x, 10) \n",
    "\n",
    "# now we can calculate the normalized features for degree 10\n",
    "poly_10_train = get_polynomial_features(training_data_x, 10, mean_train_feat, std_train_feat)\n",
    "poly_10_test = get_polynomial_features(test_data_x, 10, mean_train_feat, std_train_feat)\n",
    "ridge_factors = [1e-6, 1e-3, 1, 3, 5, 10, 20, 30, 40, 50, 1e2, 1e3, 1e5]\n",
    "weights_ridge = []\n",
    "\n",
    "for lambda_val in ridge_factors:\n",
    "    weights_ridge.append(calc_weights_ridge(poly_10_train, training_data_y, lambda_val))\n",
    "    \n",
    "# We further have to perform the predictions based on the models we have calculated\n",
    "y_training_ridge = []\n",
    "y_test_ridge = []\n",
    "\n",
    "for w in weights_ridge:\n",
    "    y_training_ridge.append(eval(poly_10_train, w))\n",
    "    y_test_ridge.append(eval(poly_10_test, w))"
   ]
  },
  {
   "cell_type": "markdown",
   "metadata": {},
   "source": [
    "We are interested in the mean squarred error on the test and the training data. For that purpose we calculate them here and plot the errors for different $\\lambda$ values in log space. "
   ]
  },
  {
   "cell_type": "code",
   "execution_count": 15,
   "metadata": {},
   "outputs": [
    {
     "data": {
      "text/plain": [
       "<matplotlib.legend.Legend at 0xbaba690>"
      ]
     },
     "execution_count": 15,
     "metadata": {},
     "output_type": "execute_result"
    },
    {
     "data": {
      "image/png": "[encoded data removed]",
      "text/plain": [
       "<Figure size 432x288 with 1 Axes>"
      ]
     },
     "metadata": {
      "needs_background": "light"
     },
     "output_type": "display_data"
    }
   ],
   "source": [
    "training_error_ridge = []\n",
    "test_error_ridge = []\n",
    "\n",
    "for i in range(len(y_training_ridge)):\n",
    "    training_error_ridge.append(mse(training_data_y, y_training_ridge[i]))\n",
    "    test_error_ridge.append(mse(test_data_y, y_test_ridge[i]))\n",
    "\n",
    "error_fig_ridge = plt.figure()\n",
    "plt.figure(error_fig_ridge.number)\n",
    "plt.title(\"Error Plot Ridge Regression\")\n",
    "plt.xlabel(\"$\\lambda$\")\n",
    "plt.ylabel(\"MSE\")\n",
    "x_axis = [\"$1e-{6}$\", \"$1e-{3}$\", \"$1$\", \"$3$\", \"$5$\",\"$10$\",\"$20$\",\"$30$\",\"$40$\",\"$50$\", \n",
    "          \"$1e2$\", \"$1e3$\", \"$1e5$\"]\n",
    "plt.yscale('log')\n",
    "plt.plot(x_axis, training_error_ridge, 'b')\n",
    "plt.plot(x_axis, test_error_ridge, 'r')\n",
    "# let's find the index with the minimum training error\n",
    "min_error_idx = np.argmin(test_error_ridge)\n",
    "plt.plot(x_axis[min_error_idx], test_error_ridge[min_error_idx], 'xg')\n",
    "plt.legend(['Training Error', 'Test Error', 'Min Test Error'])"
   ]
  },
  {
   "cell_type": "code",
   "execution_count": 16,
   "metadata": {},
   "outputs": [
    {
     "data": {
      "text/plain": [
       "[<matplotlib.lines.Line2D at 0xbb42890>]"
      ]
     },
     "execution_count": 16,
     "metadata": {},
     "output_type": "execute_result"
    },
    {
     "data": {
      "image/png": "[encoded data removed]",
      "text/plain": [
       "<Figure size 432x288 with 1 Axes>"
      ]
     },
     "metadata": {
      "needs_background": "light"
     },
     "output_type": "display_data"
    }
   ],
   "source": [
    "# Let us visualize the newly fitted model with the optimal lambda value here\n",
    "x = np.linspace(-5, 5, 100)\n",
    "y_pred = eval(get_polynomial_features(x, 10, mean_train_feat, std_train_feat), weights_ridge[min_error_idx])\n",
    "\n",
    "plt.plot()\n",
    "plt.plot(test_data_x, test_data_y, 'r')\n",
    "plt.plot(training_data_x, training_data_y, 'ob')\n",
    "plt.plot(x, y_pred)"
   ]
  },
  {
   "cell_type": "markdown",
   "metadata": {},
   "source": [
    "### 1.4) Error Plot (1 Point)\n",
    "In the lecture we have seen the error plot for polynomial degrees (slide 44).\n",
    "Draw a connection to the conclusions regarding over- and underfitting learned in the lecture to the\n",
    "different values for $\\lambda$ here. What is characteristic for overfitting and what is charecteristic for\n",
    "underfitting with respect to the $\\lambda$ values? Hint: Do not forget that we are in log space. Small changes in the y-axis mean high differences in the error values. <br><br>\n",
    "\n",
    "\n",
    "#### $\\Rightarrow$ Evaluating the graph w.r.t. the Lambda's yields:\n",
    "\n",
    "Small Lambdas yield to overfitting, as Training Data Error is very small and Test Data Error is huge ($\\rightarrow$ Model too complex). \\\n",
    "Big Lambda Values yield to underfitting as both errors - for Training and Test Data - rise ($\\rightarrow$ Model too simple).\n",
    "\n"
   ]
  },
  {
   "cell_type": "markdown",
   "metadata": {},
   "source": [
    "# Probability Basics and Linear Classification\n"
   ]
  },
  {
   "cell_type": "markdown",
   "metadata": {},
   "source": [
    "\n"
   ]
  },
  {
   "cell_type": "markdown",
   "metadata": {},
   "source": [
    "## First Example (Two Moons)\n",
    "\n",
    "Let us start by loading a very simple toy dataset, the \"two moons\"."
   ]
  },
  {
   "cell_type": "code",
   "execution_count": 17,
   "metadata": {
    "pycharm": {
     "name": "#%%\n"
    }
   },
   "outputs": [
    {
     "data": {
      "text/plain": [
       "<matplotlib.legend.Legend at 0xcf29990>"
      ]
     },
     "execution_count": 17,
     "metadata": {},
     "output_type": "execute_result"
    },
    {
     "data": {
      "image/png": "[encoded data removed]",
      "text/plain": [
       "<Figure size 432x288 with 1 Axes>"
      ]
     },
     "metadata": {
      "needs_background": "light"
     },
     "output_type": "display_data"
    }
   ],
   "source": [
    "%matplotlib inline\n",
    "\n",
    "import numpy as np\n",
    "import matplotlib.pyplot as plt\n",
    "from typing import Tuple, Callable\n",
    "\n",
    "data = dict(np.load(\"two_moons.npz\", allow_pickle=True))\n",
    "samples = data[\"samples\"]\n",
    "labels = data[\"labels\"]\n",
    "\n",
    "c0_samples = samples[labels == 0]\n",
    "c1_samples = samples[labels == 1]\n",
    "\n",
    "plt.figure(\"Data\")\n",
    "plt.scatter(x=c0_samples[:, 0], y=c0_samples[:, 1])\n",
    "plt.scatter(x=c1_samples[:, 0], y=c1_samples[:, 1])\n",
    "plt.legend([\"c0\", \"c1\"])"
   ]
  },
  {
   "cell_type": "markdown",
   "metadata": {},
   "source": [
    "Let us also define some plotting utility"
   ]
  },
  {
   "cell_type": "code",
   "execution_count": 18,
   "metadata": {
    "pycharm": {
     "name": "#%%\n"
    }
   },
   "outputs": [],
   "source": [
    "def draw_2d_gaussian(mu: np.ndarray, sigma: np.ndarray, plt_std: float = 2, *args, **kwargs) -> None:\n",
    "    (largest_eigval, smallest_eigval), eigvec = np.linalg.eig(sigma)\n",
    "    phi = -np.arctan2(eigvec[0, 1], eigvec[0, 0])\n",
    "\n",
    "    plt.scatter(mu[0:1], mu[1:2], marker=\"x\", *args, **kwargs)\n",
    "\n",
    "    a = plt_std * np.sqrt(largest_eigval)\n",
    "    b = plt_std * np.sqrt(smallest_eigval)\n",
    "\n",
    "    ellipse_x_r = a * np.cos(np.linspace(0, 2 * np.pi, num=200))\n",
    "    ellipse_y_r = b * np.sin(np.linspace(0, 2 * np.pi, num=200))\n",
    "\n",
    "    R = np.array([[np.cos(phi), np.sin(phi)], [-np.sin(phi), np.cos(phi)]])\n",
    "    r_ellipse = np.array([ellipse_x_r, ellipse_y_r]).T @ R\n",
    "    plt.plot(mu[0] + r_ellipse[:, 0], mu[1] + r_ellipse[:, 1], *args, **kwargs)\n",
    "\n",
    "# plot grid for contour plots\n",
    "plt_range = np.arange(-1.5, 2.5, 0.01)\n",
    "plt_grid = np.stack(np.meshgrid(plt_range, plt_range), axis=-1)\n",
    "flat_plt_grid = np.reshape(plt_grid, [-1, 2])\n",
    "plt_grid_shape = plt_grid.shape[:2]"
   ]
  },
  {
   "cell_type": "markdown",
   "metadata": {},
   "source": [
    "## 2): Classification using Generative Models (Naive Bayes Classifier)\n",
    "\n",
    "We first try a generative approach, the Naive Bayes Classifier.\n",
    "We model the class conditional distributions $p(\\boldsymbol{x}|c)$ as Gaussians, the class prior $p(c)$ as\n",
    "Bernoulli and apply bayes rule to compute the class posterior $p(c|\\boldsymbol{x})$.\n",
    "\n",
    "### 2.1): Implementing Generative Classifier (3 Points):\n",
    "Fill in the missing code snippets below such that code runs and a prediction is made by the classifier.\n",
    "The final accuracy should be 87%."
   ]
  },
  {
   "cell_type": "markdown",
   "metadata": {},
   "source": [
    "Recall that the density of the Multivariate Normal Distribution is given by\n",
    "\n",
    "$$ p(\\boldsymbol{x}) = \\mathcal{N}\\left(\\boldsymbol{x} | \\boldsymbol{\\mu}, \\boldsymbol{\\Sigma} \\right) = \\dfrac{1}{\\sqrt{\\det \\left(2 \\pi \\boldsymbol{\\Sigma}\\right)}} \\exp\\left( - \\dfrac{(\\boldsymbol{x}-\\boldsymbol{\\mu})^T \\boldsymbol{\\Sigma}^{-1} (\\boldsymbol{x}-\\boldsymbol{\\mu})}{2}\\right) $$\n",
    "\n"
   ]
  },
  {
   "cell_type": "code",
   "execution_count": 19,
   "metadata": {},
   "outputs": [],
   "source": [
    "def mvn_pdf(x: np.ndarray, mu: np.ndarray, sigma: np.ndarray) -> np.ndarray:\n",
    "    \"\"\"\n",
    "    Density of the Multivariate Normal Distribution\n",
    "    :param x: samples, shape: [N x dimension]\n",
    "    :param mu: mean, shape: [dimension]\n",
    "    :param sigma: covariance, shape: [dimension x dimension]\n",
    "    :return p(x) with p(x) = N(mu, sigma) , shape: [N] \n",
    "    \"\"\"\n",
    "    norm_term = 1 / np.sqrt(np.linalg.det(2 * np.pi * sigma))\n",
    "    diff = x - np.atleast_2d(mu)\n",
    "    exp_term = np.sum(np.linalg.solve(sigma, diff.T).T * diff, axis=-1)\n",
    "    return norm_term * np.exp(-0.5 * exp_term)"
   ]
  },
  {
   "cell_type": "markdown",
   "metadata": {},
   "source": [
    "**Practical Aspect:** In praxis you would never implement it like that, but stay\n",
    "in the log-domain. Also for numerically stable implementations of the multivariate normal density the symmetry and\n",
    "positive definitness of the covariance should be exploited by working with it's Cholesky decomposition."
   ]
  },
  {
   "cell_type": "markdown",
   "metadata": {},
   "source": [
    "The maximum likelihood estimator for a Multivariate Normal Distribution is given by\n",
    "$$ \\boldsymbol{\\mu} = \\dfrac{1}{N} \\sum_{i}^N \\boldsymbol{x}_i \\quad \\quad \\boldsymbol{\\Sigma} = \\dfrac{1}{N} \\sum_{i}^N (\\boldsymbol{x}_i - \\boldsymbol{\\mu}) (\\boldsymbol{x}_i - \\boldsymbol{\\mu})^T. $$\n",
    "### 2.2): Derivation of Maximum Likelihood Estimator (4 Points):\n",
    "Derive the maximum likelihood estimator for Multivariate Normal distributions, given above.\n",
    "This derivations involves some matrix calculus.\n",
    "Matrix calculus is a bit like programming, you google the stuff you need and then plug it together in the right order.\n",
    "Good resources for such rules are the \"matrix cookbook\" (https://www.math.uwaterloo.ca/~hwolkowi/matrixcookbook.pdf) and the Wikipdia article about matrix calculus\n",
    "(https://en.wikipedia.org/wiki/Matrix_calculus ). State all rules you use explicitly\n",
    "(except the ones given in the hints below). \n",
    "\n",
    "**Remark** There are different conventions of how to define a gradient (as column-vector or row-vector). This results in different ways to write the Jacobian and thus different, usually transposed, matrix calculus rules:\n",
    "- In the lecture we define the gradient as column-vector \n",
    "- In the Wikipedia article this convention is referred to as \"Denominator Layout\". It also contains a nice explanaiton of the different conventions for the gourmets among you ;) \n",
    "- The Matrix Cookbook uses the same convention (gradient as column vector)\n",
    "- Please also use it here\n",
    "\n",
    "**Hint** Here are two of those rules that might come in handy\n",
    "\n",
    "$(1) \\: \\: \\dfrac{\\partial\\log\\det(\\boldsymbol{X})}{\\partial \\boldsymbol{X}} = \\boldsymbol{X}^{-1}$\n",
    "\n",
    "$(2) \\: \\: \\dfrac{\\partial \\boldsymbol{x}^T\\boldsymbol{A}\\boldsymbol{x}}{\\partial \\boldsymbol{x}} = 2 \\boldsymbol{A}\\boldsymbol{x}$ for symmetric matrices $\\boldsymbol{A}$ (Hint: covariance matrices are always\n",
    "symmetric)\n",
    "\n",
    "There is one missing to solve the exercise. You need to find it yourself. (Hint: Look in the matrix cookbook, chapter 2.2)"
   ]
  },
  {
   "cell_type": "markdown",
   "metadata": {},
   "source": [
    "#### $\\Rightarrow$ The following matrix calculus rule is used in addition to the two given above: \n",
    "$(3) \\: \\: \\dfrac{\\partial \\boldsymbol{a}^T \\boldsymbol{X}^{-1} \\boldsymbol{b}}{\\partial \\boldsymbol{X}} \n",
    "= - \\boldsymbol{X}^{-T} \\boldsymbol{a} \\boldsymbol{b}^T \n",
    "{\\boldsymbol{X}^{-T}}$"
   ]
  },
  {
   "cell_type": "markdown",
   "metadata": {},
   "source": [
    "#### $\\Rightarrow$ Deriving mean $\\mu$:\n",
    "\n",
    "\\begin{align*}\n",
    "p(\\boldsymbol{x}) &= \\mathcal{N}\n",
    "    \\left( \n",
    "        \\boldsymbol{x} | \\boldsymbol{\\mu}, \\boldsymbol{\\Sigma} \n",
    "    \\right)\\\\\n",
    "    &= \\dfrac{1}{\\sqrt{\\det \\left( 2 \\pi \\boldsymbol{\\Sigma} \\right)}} \n",
    "    \\exp\\left(\n",
    "            - \\dfrac{(\\boldsymbol{x}-\\boldsymbol{\\mu})^T \n",
    "            \\boldsymbol{\\Sigma}^{-1} (\\boldsymbol{x}-\\boldsymbol{\\mu})}{2}\n",
    "        \\right)  \n",
    "\\end{align*}\n",
    "\n",
    "#### $\\Rightarrow$ log-likelihood:\n",
    "\n",
    "\\begin{align*}\n",
    "    & \\sum^N_i \\log \n",
    "       \\left(\n",
    "           \\dfrac{1}{\\sqrt{\\det \\left( 2 \\pi \\boldsymbol{\\Sigma} \\right)}} \n",
    "    \\exp\\left(\n",
    "            - \\dfrac{(\\boldsymbol{x}_i-\\boldsymbol{\\mu})^T \n",
    "            \\boldsymbol{\\Sigma}^{-1} (\\boldsymbol{x}_i-\\boldsymbol{\\mu})}{2}\n",
    "         \\right)\n",
    "        \\right) \n",
    "    && \\rightarrow \\log(a \\cdot b) = \\log(a) + \\log(b) \\\\\n",
    "    &= \\sum^N_i \n",
    "       \\log \\left(\n",
    "           \\dfrac{1}{\\sqrt{\\det \\left( 2 \\pi \\boldsymbol{\\Sigma} \\right)}}\n",
    "       \\right)\n",
    "    + \\log \\left( \\exp \\left(\n",
    "            - \\dfrac{(\\boldsymbol{x}_i - \\boldsymbol{\\mu})^T \n",
    "            \\boldsymbol{\\Sigma}^{-1} (\\boldsymbol{x}_i - \\boldsymbol{\\mu})}{2}\n",
    "         \\right)\n",
    "        \\right) \\\\\n",
    "    &= -N \\log \\left(\n",
    "           \\dfrac{1}{\\sqrt{\\det \\left( 2 \\pi \\boldsymbol{\\Sigma} \\right)}}\n",
    "       \\right)\n",
    "    - \\sum^N_i \\left(\n",
    "            \\dfrac{(\\boldsymbol{x}_i - \\boldsymbol{\\mu})^T \n",
    "            \\boldsymbol{\\Sigma}^{-1} (\\boldsymbol{x}_i - \\boldsymbol{\\mu})}{2}\n",
    "         \\right) \\\\\n",
    "\\end{align*}\n",
    "    \n",
    "#### $\\Rightarrow$ MLE Solution for $\\boldsymbol{\\mu}$ : $\\dfrac{\\partial \\: \\log \\: likelihood \\left( \\boldsymbol{\\mu}; D \\right)}{\\partial \\: \\boldsymbol{\\mu}} \\stackrel{!}{=} 0$\n",
    "    \n",
    "\\begin{align*}\n",
    "0   &\\stackrel{!}{=} \\dfrac{\\partial}{\\partial \\boldsymbol{\\mu}} \\left\\{ -N \\log \\left(\n",
    "           \\dfrac{1}{\\sqrt{\\det \\left( 2 \\pi \\boldsymbol{\\Sigma} \\right)}}\n",
    "       \\right)\n",
    "    - \\sum^N_i \\left(\n",
    "            \\dfrac{(\\boldsymbol{x}_i - \\boldsymbol{\\mu})^T \n",
    "            \\boldsymbol{\\Sigma}^{-1} (\\boldsymbol{x}_i - \\boldsymbol{\\mu})}{2}\n",
    "         \\right) \\right\\} \\\\\n",
    "    &= \\dfrac{\\partial}{\\partial \\boldsymbol{\\mu}} \\left\\{ - \\sum^N_i \\dfrac{(\\boldsymbol{x}_i -\\boldsymbol{\\mu})^T \n",
    "            \\boldsymbol{\\Sigma}^{-1} (\\boldsymbol{x}_i-\\boldsymbol{\\mu})}{2} \\right\\}\n",
    "    && \\rightarrow \\text{Apply Equation (2)} \\\\\n",
    "    &= - \\sum^N_i \\frac{2 \\boldsymbol{\\Sigma}^{-1} (\\boldsymbol{x}_i-\\boldsymbol{\\mu})}{2} \\\\\n",
    "    &= - N \\boldsymbol{\\Sigma}^{-1} \\sum^N_i (\\boldsymbol{x}_i-\\boldsymbol{\\mu}) \\\\\n",
    "    &= N^2 \\boldsymbol{\\Sigma}^{-1} \\boldsymbol{\\mu} - N \\boldsymbol{\\Sigma}^{-1} \\sum^N_i \\boldsymbol{x}_i  \\\\\n",
    "N^2 \\boldsymbol{\\Sigma}^{-1} \\boldsymbol{\\mu} &= N \\boldsymbol{\\Sigma}^{-1} \\sum^N_i \\boldsymbol{x}_i\n",
    "    && \\rightarrow \\boldsymbol{\\Sigma} \\cdot \\boldsymbol{\\Sigma}^{-1} = I \\\\\n",
    "N \\boldsymbol{\\mu} &= \\sum^N_i \\boldsymbol{x}_i \\\\\n",
    "\\boldsymbol{\\mu} &= \\dfrac{1}{N} \\sum^N_i \\boldsymbol{x}_i \n",
    "\\end{align*}"
   ]
  },
  {
   "cell_type": "markdown",
   "metadata": {},
   "source": [
    "#### $\\Rightarrow$ Deriving covariance $\\Sigma$:\n",
    "\n",
    "\\begin{align*}\n",
    "    p(\\boldsymbol{x}) &= \\mathcal{N}\n",
    "    \\left( \n",
    "        \\boldsymbol{x} | \\boldsymbol{\\mu}, \\boldsymbol{\\Sigma} \n",
    "    \\right) \\\\\n",
    "    &= \\dfrac{1}{\\sqrt{\\det \\left( 2 \\pi \\boldsymbol{\\Sigma} \\right)}} \n",
    "    \\exp\\left(\n",
    "            - \\dfrac{(\\boldsymbol{x}-\\boldsymbol{\\mu})^T \n",
    "            \\boldsymbol{\\Sigma}^{-1} (\\boldsymbol{x}-\\boldsymbol{\\mu})}{2}\n",
    "        \\right) \n",
    "\\end{align*}\n",
    "\n",
    "#### $\\Rightarrow$ log-likelihood:\n",
    "\n",
    "\\begin{align*}\n",
    "    &\\sum^N_i \\log \n",
    "       \\left(\n",
    "           \\dfrac{1}{\\sqrt{\\det \\left( 2 \\pi \\boldsymbol{\\Sigma} \\right)}} \n",
    "    \\exp\\left(\n",
    "            - \\dfrac{(\\boldsymbol{x}-\\boldsymbol{\\mu})^T \n",
    "            \\boldsymbol{\\Sigma}^{-1} (\\boldsymbol{x}-\\boldsymbol{\\mu})}{2}\n",
    "         \\right)\n",
    "        \\right) \n",
    "    && \\rightarrow \\log(a \\cdot b) = \\log(a) + \\log(b) \\\\\n",
    "    &= \\sum^N_i \\left(\n",
    "       \\log \\left(\n",
    "           \\dfrac{1}{\\sqrt{\\det \\left( 2 \\pi \\boldsymbol{\\Sigma} \\right)}}\n",
    "       \\right)\n",
    "    + \\log \\left( \\exp \\left(\n",
    "            - \\dfrac{(\\boldsymbol{x}-\\boldsymbol{\\mu})^T \n",
    "            \\boldsymbol{\\Sigma}^{-1} (\\boldsymbol{x}-\\boldsymbol{\\mu})}{2}\n",
    "         \\right)\n",
    "        \\right) \\right)\n",
    "    && \\rightarrow \\log \\left( \\dfrac{1}{x} \\right) = - \\log(x) \\\\\n",
    "    & && \\rightarrow \\log(\\sqrt{x}) = \\dfrac{1}{2} \\cdot \\log(x) \\\\\n",
    "    &= - \\dfrac{N}{2} \\log \\left(\n",
    "            \\det \\left( 2 \\pi \\boldsymbol{\\Sigma} \\right) \n",
    "         \\right) \n",
    "       - \\sum^N_i \\dfrac{ \\left( \n",
    "            \\boldsymbol{x}_i - \\boldsymbol{\\mu} \n",
    "         \\right)^T \\boldsymbol{\\Sigma}^{-1} \\left(\n",
    "            \\boldsymbol{x}_i - \\boldsymbol{\\mu}\n",
    "         \\right)}{2} \n",
    "    && \\rightarrow \\text{Da } \\boldsymbol{x} \\text{ d-Dimensional } \\rightarrow \\det \\left( 2 \\pi \\boldsymbol{\\Sigma} \\right) = \\left( 2 \\pi \\right)^d \\det \\left( \\boldsymbol{\\Sigma} \\right) \\\\\n",
    "    &= - \\dfrac{N d}{2} \\log (2 \\pi ) - \\dfrac{N}{2} \\log \\left( \\det(\\boldsymbol{\\Sigma}) \\right) - \\sum^N_i \\dfrac{\\left( \\boldsymbol{x}_i - \\boldsymbol{\\mu} \\right)^T \\boldsymbol{\\Sigma}^{-1} \\left( \\boldsymbol{x}_i - \\boldsymbol{\\mu} \\right)}{2} \\\\\n",
    "\\end{align*}\n",
    "\n",
    "#### $\\Rightarrow \\text{MLE Solution for } \\boldsymbol{\\Sigma} \\text{ : } \\dfrac{\\partial \\: log \\: likelihood \\left( \\boldsymbol{\\Sigma}; D \\right)}{\\partial \\: \\boldsymbol{\\Sigma}} \\stackrel{!}{=} 0$\n",
    "\n",
    "\\begin{align*}\n",
    "    0 &\\stackrel{!}{=} \\dfrac{\\partial}{\\partial \\boldsymbol{\\Sigma}} \\left\\{ - \\dfrac{N d}{2} \\log (2 \\pi ) - \\dfrac{N}{2} \\log \\left( \\det(\\boldsymbol{\\Sigma}) \\right) - \\sum^N_i \\dfrac{\\left( \\boldsymbol{x}_i - \\boldsymbol{\\mu} \\right)^T \\boldsymbol{\\Sigma}^{-1} \\left( \\boldsymbol{x}_i - \\boldsymbol{\\mu} \\right)}{2} \\right\\} \n",
    "    && \\rightarrow - \\det(\\boldsymbol{X}) = \\det(\\boldsymbol{X}^{-1}) \\text{ For symmetric Matrices } \\boldsymbol{X} \\\\\n",
    "    &= \\dfrac{\\partial}{\\partial \\boldsymbol{\\Sigma}} \\left\\{ - \\dfrac{N d}{2} \\log (2 \\pi ) + \\dfrac{N}{2} \\log \\left( \\det(\\boldsymbol{\\Sigma}^{-1}) \\right) - \\sum^N_i \\dfrac{\\left( \\boldsymbol{x}_i - \\boldsymbol{\\mu} \\right)^T \\boldsymbol{\\Sigma}^{-1} \\left( \\boldsymbol{x}_i - \\boldsymbol{\\mu} \\right)}{2} \\right\\} \n",
    "    && \\rightarrow \\text{Equation (1) and (3)} \\\\\n",
    "    &= \\dfrac{N}{2} \\boldsymbol{\\Sigma} + \\dfrac{1}{2} \\sum^N_i \\boldsymbol{\\Sigma}^{-T} \\left( \\boldsymbol{x}_i - \\boldsymbol{\\mu} \\right) \\left( \\boldsymbol{x}_i - \\boldsymbol{\\mu} \\right) ^T \\boldsymbol{\\Sigma}^{-T} \\\\\n",
    "\\boldsymbol{\\Sigma} &= - \\dfrac{1}{N} \\sum^N_i \\boldsymbol{\\Sigma}^{-T} \\left( \\boldsymbol{x}_i - \\boldsymbol{\\mu} \\right) \\left( \\boldsymbol{x}_i - \\boldsymbol{\\mu} \\right) ^T \\boldsymbol{\\Sigma}^{-T} \n",
    "    && ???\\\\\n",
    "\\end{align*}"
   ]
  },
  {
   "cell_type": "markdown",
   "metadata": {},
   "source": [
    "#### Transform the log-likelihood function\n",
    "\n",
    "\\begin{align*}\n",
    "\\ell(x|\\mu,\\Sigma) &= \\sum_{i}^{N}{\\log(\\frac{1}{|2\\pi\\Sigma|} * e^{-\\frac{(x_i - \\mu)^T\\Sigma^{-1}(x_i-\\mu)}{2}})}\\\\\n",
    "&= \\sum_{i}^{N}{\\log(\\frac{1}{|2\\pi\\Sigma|}) + \\log(e^{-\\frac{(x_i - \\mu)^T\\Sigma^{-1}(x_i-\\mu)}{2}})}\\\\\n",
    "&= \\ldots && \\text{As always in math, the next steps are either elementary or trivial} \\\\\n",
    "&= \\frac{-N}{2}*\\underline{\\log(|2\\pi\\Sigma|)} - \\frac{1}{2}*\\sum_i^N{(x_i - \\mu)^T\\Sigma^{-1}(x_i-\\mu)} && \\text{Since }2\\pi \\text{ is a scaler, we can do} |2\\pi\\Sigma| = 2\\pi * |\\Sigma|\\\\\n",
    "&= \\frac{-N}{2}*(\\log(|2\\pi\\|) + \\underline{\\log(|\\Sigma|))} - \\frac{1}{2}*\\sum_i^N{(x_i - \\mu)^T\\Sigma^{-1}(x_i-\\mu)} && \\log(x) = -\\log{x^{-1}}, \\text{i.e. multiplying our log by -1 let us us use the inverse} \\\\\n",
    "&= \\frac{-N}{2}*\\log(|2\\pi\\|) + \\frac{N}{2}*\\log(|\\Sigma^{-1}|) - \\frac{1}{2}*\\sum_i^N{(x_i - \\mu)^T\\Sigma^{-1}(x_i-\\mu)} && \\text{We can now derive this after } \\Sigma^{-1} \\\\\n",
    "\\end{align*}"
   ]
  },
  {
   "cell_type": "markdown",
   "metadata": {},
   "source": [
    "\\begin{align*}\n",
    "\\frac{\\partial l}{\\partial \\Sigma^{-1}} &= \\frac{\\partial}{\\partial \\Sigma^{-1}} [\\frac{N}{2}*\\log(|2\\pi\\|) + \\frac{-N}{2}*\\log(|\\Sigma^{-1}|) - \\frac{1}{2}*\\sum_i^N{(x_i - \\mu)^T\\Sigma^{-1}(x_i-\\mu)}] && \\text{Split into groups for easier explanation}\\\\\n",
    "&= \\underline{\\frac{\\partial}{\\partial \\Sigma^{-1}}[\\frac{N}{2}\\log(|2\\pi|)]}+\\frac{\\partial}{\\partial \\Sigma^{-1}}[\\frac{-N}{2}\\log(|\\Sigma^{-1}|)]+\\frac{\\partial}{\\partial \\Sigma^{-1}}[-\\frac{1}{2}\\sum_i^N{(x_i - \\mu)^T\\Sigma^{-1}(x_i-\\mu)}] && \\text{First group is just a constant} \\\\\n",
    "&= 0 +\\underline{\\frac{\\partial}{\\partial \\Sigma^{-1}}[\\frac{-N}{2}\\log(|\\Sigma^{-1}|)]}+\\frac{\\partial}{\\partial \\Sigma^{-1}}[-\\frac{1}{2}*\\sum_i^N{(x_i - \\mu)^T\\Sigma^{-1}(x_i-\\mu)}] && \\text{We apply rule (1): } \\frac{\\partial \\log |X|}{\\partial X} = X^{-1}, X=\\Sigma^{-1} \\text{ here.} \\\\\n",
    "&= 0 +\\frac{-N}{2}*\\Sigma+\\underline{\\frac{\\partial}{\\partial \\Sigma^{-1}}[-\\frac{1}{2}*\\sum_i^N{(x_i - \\mu)^T\\Sigma^{-1}(x_i-\\mu)}]} && \\text{Rule (3) on the last term: } \\frac{\\partial a^TXb}{\\partial X} = ab^T \\\\\n",
    "&= 0 +\\frac{-N}{2}*\\Sigma+-\\frac{1}{2}*\\sum_i^N{(x_i - \\mu)(x_i-\\mu)^T} \\overset{!}{=} 0 && \\text{Now, let's set this to 0} \\\\\n",
    "0 &= \\frac{N}{2}*\\Sigma+-\\frac{1}{2}*\\sum_i^N{(x_i - \\mu)(x_i-\\mu)^T} && \\text{Everything times 2} \\\\\n",
    "&= N*\\Sigma-\\sum_i^N{(x_i - \\mu)(x_i-\\mu)^T} \\\\\n",
    "-N*\\Sigma &= -\\sum_i^N{(x_i - \\mu)(x_i-\\mu)^T} && *(-\\frac{1}{N}) \\\\\n",
    "\\Sigma &= \\frac{1}{N}\\sum_i^N{(x_i - \\mu)(x_i-\\mu)^T} \n",
    "\\end{align*}"
   ]
  },
  {
   "cell_type": "code",
   "execution_count": 20,
   "metadata": {},
   "outputs": [],
   "source": [
    "def mvn_mle(x: np.ndarray) -> Tuple[np.ndarray, np.ndarray]:\n",
    "    \"\"\"\n",
    "    Maximum Likelihood Estimation of parameters for Multivariate Normal Distribution\n",
    "    :param x: samples shape: [N x dimension]\n",
    "    :return mean (shape: [dimension]) und covariance (shape: [dimension x dimension]) that maximize likelihood of data.\n",
    "    \"\"\"\n",
    "    ## DONE\n",
    "    return (x.mean(axis=0), np.cov(x[:,0],x[:,1]))\n",
    "    ## DONE"
   ]
  },
  {
   "cell_type": "markdown",
   "metadata": {},
   "source": [
    "We can now use this maximum likelihood estimator to fit generative models to the samples of both classes. Using those models and some basic rules of probability we can obtain the class posterior distribution $p(c|\\boldsymbol{x})$"
   ]
  },
  {
   "cell_type": "code",
   "execution_count": 21,
   "metadata": {
    "pycharm": {
     "name": "#%%\n"
    }
   },
   "outputs": [
    {
     "name": "stdout",
     "output_type": "stream",
     "text": [
      "Accuracy: 0.89\n"
     ]
    }
   ],
   "source": [
    "# Fit Gaussian Distributions using the maximum likelihood estimator to samples from both classes\n",
    "mu_c0, sigma_c0 = mvn_mle(c0_samples)\n",
    "mu_c1, sigma_c1 = mvn_mle(c1_samples)\n",
    "\n",
    "# Prior obtained by \"counting\" samples in each class\n",
    "p_c0 = c0_samples.shape[0] / samples.shape[0] # 0.5\n",
    "p_c1 = c1_samples.shape[0] / samples.shape[0] # DONE\n",
    "\n",
    "def compute_posterior(\n",
    "        samples: np.ndarray,\n",
    "        p_c0: float, mu_c0: np.ndarray, sigma_c0: np.ndarray,\n",
    "        p_c1: float, mu_c1: np.ndarray, sigma_c1: np.ndarray) \\\n",
    "        -> Tuple[np.ndarray, np.ndarray]:\n",
    "    \"\"\"\n",
    "    computes the posteroir distribution p(c|x) given samples x, the prior p(c) and the\n",
    "    class conditional likelihood p(x|c)\n",
    "    :param samples: samples x to classify, shape: [N x dimension]\n",
    "    :param p_c0: prior probability of class 0, p(c=0) \n",
    "    :param mu_c0: mean of class conditional likelihood of class 0, p(x|c=0) shape: [dimension]\n",
    "    :param sigma_c0: covariance of class conditional likelihood of class 0, p(x|c=0) shape: [dimension x dimension]\n",
    "    :param p_c1: prior probability of class 1 p(c=1) \n",
    "    :param mu_c1: mean of class conditional likelihood of class 1 p(x|c=1) shape: [dimension]\n",
    "    :param sigma_c1: covariance of class conditional likelihood of class 1, p(x|c=1) shape: [dimension x dimension]\n",
    "    :return two arrays, p(c=0|x) and p(c=1|x), both shape [N]\n",
    "    \"\"\"\n",
    "    ## DONE\n",
    "    p_x = mvn_pdf(samples, *mvn_mle(samples))\n",
    "    \n",
    "    # check: p(x|c) = mvn with c0 mu and sigma\n",
    "    p_x_c0 = mvn_pdf(samples, mu_c0, sigma_c0)\n",
    "    p_x_c1 = mvn_pdf(samples, mu_c1, sigma_c1)\n",
    "    \n",
    "    p_c0_given_x = (p_x_c0 * p_c0)/p_x\n",
    "    p_c1_given_x = (p_x_c1 * p_c1)/p_x\n",
    "    \n",
    "    return p_c0_given_x, p_c1_given_x\n",
    "    ## DONE\n",
    "\n",
    "\n",
    "p_c0_given_x, p_c1_given_x = compute_posterior(samples, p_c0, mu_c0, sigma_c0, p_c1, mu_c1, sigma_c1)\n",
    "# Prediction\n",
    "predicted_labels = np.zeros(labels.shape)\n",
    "# break at 0.5 arbitrary\n",
    "predicted_labels[p_c0_given_x >= 0.5] = 0.0  # is not strictly necessary since whole array already zero.\n",
    "predicted_labels[p_c1_given_x > 0.5] = 1.0\n",
    "\n",
    "# Evaluate\n",
    "acc = (np.count_nonzero(predicted_labels == labels)) / labels.shape[0]\n",
    "print(\"Accuracy:\", acc)"
   ]
  },
  {
   "cell_type": "markdown",
   "metadata": {},
   "source": [
    "Lets look at the class likelihoods"
   ]
  },
  {
   "cell_type": "code",
   "execution_count": 22,
   "metadata": {
    "pycharm": {
     "name": "#%%\n"
    }
   },
   "outputs": [
    {
     "data": {
      "text/plain": [
       "<matplotlib.legend.Legend at 0xce64b50>"
      ]
     },
     "execution_count": 22,
     "metadata": {},
     "output_type": "execute_result"
    },
    {
     "data": {
      "image/png": "[encoded data removed]",
      "text/plain": [
       "<Figure size 432x288 with 1 Axes>"
      ]
     },
     "metadata": {
      "needs_background": "light"
     },
     "output_type": "display_data"
    }
   ],
   "source": [
    "plt.title(\"Naive Bayes\")\n",
    "plt.scatter(x=samples[labels == 0, 0], y=samples[labels == 0, 1], c=\"blue\")\n",
    "draw_2d_gaussian(mu_c0, sigma_c0, c=\"blue\")\n",
    "plt.scatter(x=samples[labels == 1, 0], y=samples[labels == 1, 1], c=\"orange\")\n",
    "draw_2d_gaussian(mu_c1, sigma_c1, c=\"orange\")\n",
    "plt.legend([\"c0\", \"c1\"])"
   ]
  },
  {
   "cell_type": "markdown",
   "metadata": {},
   "source": [
    "And the final posterior distribution for the case $p(c=1|\\boldsymbol{x})$"
   ]
  },
  {
   "cell_type": "code",
   "execution_count": 23,
   "metadata": {
    "pycharm": {
     "name": "#%%\n"
    }
   },
   "outputs": [
    {
     "data": {
      "text/plain": [
       "(-1.5, 2.5)"
      ]
     },
     "execution_count": 23,
     "metadata": {},
     "output_type": "execute_result"
    },
    {
     "data": {
      "image/png": "[encoded data removed]",
      "text/plain": [
       "<Figure size 432x288 with 2 Axes>"
      ]
     },
     "metadata": {
      "needs_background": "light"
     },
     "output_type": "display_data"
    }
   ],
   "source": [
    "pred_grid = np.reshape(compute_posterior(flat_plt_grid, p_c0, mu_c0, sigma_c0,\n",
    "                                         p_c1, mu_c1, sigma_c1)[1], plt_grid_shape)\n",
    "plt.contourf(plt_grid[..., 0], plt_grid[..., 1], pred_grid, levels=10)\n",
    "plt.colorbar()\n",
    "\n",
    "s0 = plt.scatter(c0_samples[..., 0], c0_samples[..., 1], color=\"blue\")\n",
    "s1 = plt.scatter(c1_samples[..., 0], c1_samples[..., 1], color=\"orange\")\n",
    "plt.legend([s0, s1], [\"c0\", \"c1\"])\n",
    "\n",
    "plt.xlim(-1.5, 2.5)"
   ]
  },
  {
   "cell_type": "markdown",
   "metadata": {},
   "source": [
    "We achieve a train accuracy of 87%.\n",
    "For such a simple task that is clearly not great, but it nicely illustrates a\n",
    "problem with generative approaches:\n",
    "They usually depend on quite a lot of assumptions.\n",
    "\n",
    "### 2.3) Wrong Assumptions? (1 Point):\n",
    "Which untrue assumption did we make?"
   ]
  },
  {
   "cell_type": "markdown",
   "metadata": {},
   "source": [
    "**We assume that our given attributes are iid. (identically and independently distributed).**"
   ]
  },
  {
   "cell_type": "markdown",
   "metadata": {},
   "source": [
    "First guess: [Conditional Independence of Data](https://machinelearningmastery.com/naive-bayes-classifier-scratch-python/)\n",
    "<font color='red'>TODO:</font> How do we prove that data is not independent?"
   ]
  },
  {
   "cell_type": "markdown",
   "metadata": {},
   "source": [
    "Conditional independence is given, when the following condition holds:\n",
    "$$P(X_1,\\ldots,X_i | Y) = \\prod_{i} P(X_i|Y)$$\n",
    "In our case this means that \n",
    "\\begin{align*} P(X_1 \\cap X_2 | C=0) &= P(X_1|C=0) * P(X_2|C=0) \\\\\n",
    "               P(C_0 \\cap C_1 | X) &= P(C_0|X) * P(C_1|X) \\end{align*}"
   ]
  },
  {
   "cell_type": "markdown",
   "metadata": {},
   "source": [
    "### Discriminative Classifier using Logistic Regression\n",
    "<i> This part of the Notebook was already presented in the Lecture and is only here for reference.\n",
    " There are no tasks in this part.</i>\n",
    "\n",
    "We start by implementing a few helper functions for affine mappings, the sigmoid function and the negative bernoulli log-likelihood."
   ]
  },
  {
   "cell_type": "code",
   "execution_count": 24,
   "metadata": {
    "pycharm": {
     "name": "#%%\n"
    }
   },
   "outputs": [],
   "source": [
    "def affine_features(x: np.ndarray) -> np.ndarray:\n",
    "    \"\"\"\n",
    "    implements affine feature function\n",
    "    :param x: inputs, shape: [N x sample_dim]\n",
    "    :return inputs with additional bias dimension, shape: [N x feature_dim]\n",
    "    \"\"\"\n",
    "    return np.concatenate([x, np.ones((x.shape[0], 1))], axis=-1)\n",
    "\n",
    "def quad_features(x: np.ndarray) -> np.ndarray:\n",
    "    \"\"\"\n",
    "    implements quadratic feature function\n",
    "    :param x: inputs, shape: [N x sample_dim]\n",
    "    :return squared features of x, shape: [N x feature_dim]\n",
    "    \"\"\"\n",
    "    sq = np.stack([x[:, 0] ** 2, x[:, 1]**2, x[:, 0] * x[:, 1]], axis=-1)\n",
    "    return np.concatenate([sq, affine_features(x)], axis=-1)\n",
    "\n",
    "def cubic_features(x: np.ndarray) -> np.ndarray:\n",
    "    \"\"\"\n",
    "    implements cubic feature function\n",
    "    :param x: inputs, shape: [N x sample_dim]\n",
    "    :return cubic features of x, shape: [N x feature_dim]\n",
    "    \"\"\"\n",
    "    cubic = np.stack([x[:, 0]**3, x[:, 0]**2 * x[:, 1], x[:, 0] * x[:, 1]**2, x[:, 1]**3], axis=-1)\n",
    "    return np.concatenate([cubic, quad_features(x)], axis=-1)\n",
    "\n",
    "def sigmoid(x: np.ndarray) -> np.ndarray:\n",
    "    \"\"\"\n",
    "    the sigmoid function\n",
    "    :param x: inputs \n",
    "    :return sigma(x)\n",
    "    \"\"\"\n",
    "    return 1 / (1 + np.exp(-x))\n",
    "\n",
    "def bernoulli_nll(predictions: np.ndarray, labels: np.ndarray, epsilon: float = 1e-12) -> np.ndarray:\n",
    "    \"\"\"\n",
    "    :param predictions: output of the classifier, shape: [N]\n",
    "    :param labels: true labels of the samples, shape: [N]\n",
    "    :param epsilon: small offset to avoid numerical instabilities (i.e log(0))\n",
    "    :return negative log-likelihood of the labels given the predictions\n",
    "    \"\"\"\n",
    "    return - (labels * np.log(predictions + epsilon) + (1 - labels) * np.log(1 - predictions + epsilon))"
   ]
  },
  {
   "cell_type": "markdown",
   "metadata": {},
   "source": [
    "\n",
    "### Optimization by Gradient Descent\n",
    "\n",
    "\n",
    "First, we implement a very simple gradient descent optimizer. It iterativly applies the gradient descent rule\n",
    "introduced in the lecture\n",
    "$$ \\boldsymbol{x}_{t+1} = \\boldsymbol{x}_t - \\eta \\nabla f(\\boldsymbol{x}_t).$$\n",
    "\n",
    "We also add some simple stopping criteria which terminate the minimization if the algorithm has converged."
   ]
  },
  {
   "cell_type": "code",
   "execution_count": 25,
   "metadata": {
    "pycharm": {
     "name": "#%%\n"
    }
   },
   "outputs": [],
   "source": [
    "def minimize(f: Callable , df: Callable, x0: np.ndarray, lr: float, num_iters: int) -> \\\n",
    "        Tuple[np.ndarray, float, np.ndarray, np.ndarray]:\n",
    "    \"\"\"\n",
    "    :param f: objective function\n",
    "    :param df: gradient of objective function\n",
    "    :param x0: start point, shape [dimension]\n",
    "    :param lr: learning rate\n",
    "    :param num_iters: maximum number of iterations\n",
    "    :return argmin, min, values of x for all interations, value of f(x) for all iterations\n",
    "    \"\"\"\n",
    "    # initialize\n",
    "    x = np.zeros([num_iters + 1] + list(x0.shape))\n",
    "    f_x = np.zeros(num_iters + 1)\n",
    "    x[0] = x0\n",
    "    f_x[0] = f(x0)\n",
    "    for i in range(num_iters):\n",
    "        # update using gradient descent rule\n",
    "        grad = df(x[i])\n",
    "        x[i + 1] = x[i] - lr * grad\n",
    "        f_x[i + 1] = f(x[i + 1])\n",
    "    return x[i+1], f_x[i+1], x[:i+1], f_x[:i+1] # logging info for visualization\n"
   ]
  },
  {
   "cell_type": "markdown",
   "metadata": {},
   "source": [
    "**Practical Aspect:** While such a simple gradient descent optimizer works for the task we are considering and is simple enough to implement, in practice you should always use more sophisticated optimizers (e.g. L-BFGS) and use existing implementations. Such efficient and well-tested implementations are provided by software packages such as NlOpt or scipy.optimize.\n",
    "\n",
    "Next, we need to define the cost function and its derivative. Maximizing the likelihood is equivalent to minimizing the negative log-likelihood, which we are using here. The derivation of the gradient is given in the lecture.\n",
    "\n",
    "Note that we do not sum the losses as in the lecutre but take the mean. This is just a multiplication with a constant, thus the optimal parameters do not change. Yet, working with the mean makes the loss, and more importantly, the length of the gradient independent of the number of samples."
   ]
  },
  {
   "cell_type": "code",
   "execution_count": 26,
   "metadata": {
    "pycharm": {
     "name": "#%%\n"
    }
   },
   "outputs": [],
   "source": [
    "def objective_bern(weights: np.ndarray, features: np.ndarray, labels: np.ndarray) -> float:\n",
    "    \"\"\"\n",
    "    bernoulli log-likelihood objective \n",
    "    :param weights: current weights to evaluate, shape: [feature_dim]\n",
    "    :param features: train samples, shape: [N x feature_dim]\n",
    "    :param labels: class labels corresponding to train samples, shape: [N]\n",
    "    :return average negative log-likelihood \n",
    "    \"\"\"\n",
    "    predictions = sigmoid(features @ weights)\n",
    "    return np.mean(bernoulli_nll(predictions, labels))\n",
    "\n",
    "def d_objective_bern(weights: np.ndarray, features: np.ndarray, labels: np.ndarray) -> np.ndarray:\n",
    "    \"\"\"\n",
    "    gradient of the bernoulli log-likelihood objective\n",
    "    :param weights: current weights to evaluate, shape: [feature_dim]\n",
    "    :param features: train samples, shape: [N x feature_dim]\n",
    "    :param labels: class labels corresponding to train samples, shape [N]\n",
    "    \"\"\"\n",
    "    res = np.expand_dims(sigmoid(features @ weights) - labels, -1)\n",
    "    grad = features.T @ res / res.shape[0]\n",
    "    return np.squeeze(grad)"
   ]
  },
  {
   "cell_type": "markdown",
   "metadata": {},
   "source": [
    "Finally, we can tie everything together and get our probabilistic classifier"
   ]
  },
  {
   "cell_type": "code",
   "execution_count": 27,
   "metadata": {
    "pycharm": {
     "name": "#%%\n"
    }
   },
   "outputs": [
    {
     "name": "stdout",
     "output_type": "stream",
     "text": [
      "Final loss: 0.019875249179541404\n"
     ]
    },
    {
     "data": {
      "text/plain": [
       "(-1.5, 2.5)"
      ]
     },
     "execution_count": 27,
     "metadata": {},
     "output_type": "execute_result"
    },
    {
     "data": {
      "image/png": "[encoded data removed]",
      "text/plain": [
       "<Figure size 432x288 with 1 Axes>"
      ]
     },
     "metadata": {
      "needs_background": "light"
     },
     "output_type": "display_data"
    },
    {
     "data": {
      "image/png": "[encoded data removed]",
      "text/plain": [
       "<Figure size 432x288 with 2 Axes>"
      ]
     },
     "metadata": {
      "needs_background": "light"
     },
     "output_type": "display_data"
    }
   ],
   "source": [
    "# Generate Features from Data\n",
    "\n",
    "# change this to play arround with feature functions\n",
    "#feature_fn = affine_features\n",
    "#feature_fn = quad_features\n",
    "feature_fn = cubic_features\n",
    "features = feature_fn(samples)\n",
    "\n",
    "# Optimize Loss\n",
    "w_bce, loss, x_history, f_x_history = \\\n",
    "    minimize(lambda w: objective_bern(w, features, labels),\n",
    "             lambda w: d_objective_bern(w, features, labels),\n",
    "             np.ones(features.shape[1]), 1, 2500)\n",
    "\n",
    "print(\"Final loss:\", loss)\n",
    "# Plot\n",
    "plt.figure()\n",
    "plt.semilogy(f_x_history)\n",
    "plt.xlabel(\"Iteration\")\n",
    "plt.ylabel(\"Negative Bernoulli Log-Likelihood\")\n",
    "\n",
    "plt.figure()\n",
    "plt.title(\"Bernoulli LL Solution\")\n",
    "pred_grid = np.reshape(sigmoid(feature_fn(flat_plt_grid) @ w_bce), plt_grid_shape)\n",
    "\n",
    "plt.contourf(plt_grid[..., 0], plt_grid[..., 1], pred_grid, levels=10)\n",
    "plt.colorbar()\n",
    "\n",
    "s0 = plt.scatter(c0_samples[..., 0], c0_samples[..., 1], color=\"blue\")\n",
    "s1 = plt.scatter(c1_samples[..., 0], c1_samples[..., 1], color=\"orange\")\n",
    "plt.legend([s0, s1], [\"c0\", \"c1\"])\n",
    "plt.xlim(-1.5, 2.5)"
   ]
  },
  {
   "cell_type": "markdown",
   "metadata": {},
   "source": [
    "## 3) Stochastic and Batch Gradients (4 Points)\n",
    "**Note** You need to run the cells above first to load the data\n",
    "\n",
    "Usually it is cheaper to approximate the gradients on a small subset of the data, i.e. a batch. We implement a single function for this\n",
    "\n",
    "\n",
    "Fill in the todos in the function below."
   ]
  },
  {
   "cell_type": "code",
   "execution_count": 28,
   "metadata": {
    "pycharm": {
     "name": "#%%\n"
    }
   },
   "outputs": [],
   "source": [
    "## DONE\n",
    "def unison_shuffled_copies(a, b):\n",
    "    \"\"\"\n",
    "    Randomly shuffles two seperate datasets \"the same way\", i.e. the rows are kept together\n",
    "    param a,b: np.array\n",
    "    return a,b\n",
    "    \"\"\"\n",
    "    assert len(a) == len(b)\n",
    "    p = np.random.permutation(len(a))\n",
    "    return a[p], b[p]\n",
    "## DONE\n",
    "\n",
    "\n",
    "def minimize_with_sgd(features: np.ndarray, labels: np.ndarray, initial_weights: np.ndarray, schedule: Callable,\n",
    "                      num_iterations: int, batch_size: int):\n",
    "    \"\"\"\n",
    "    :param features: all samples, shape: [N x feature_dim] \n",
    "    :param labels: all labels, shape: [N]\n",
    "    :param initial_weights: initial weights of the classifier, shape: [feature_dim * K]\n",
    "    :param schedule: learning rate schedule (a callable function returning the learning rate, given the iteration\n",
    "    :param num_iterations: number of times to loop over the whole dataset\n",
    "    :param batch_size: size of each batch, should be between 1 and size of data\n",
    "    return \"argmin\", \"min\", logging info\n",
    "    \"\"\"\n",
    "\n",
    "    assert 1 <= batch_size <= features.shape[0]\n",
    "    # This is a somewhat simplifying assumption but for the exercise its ok\n",
    "    assert features.shape[0] % batch_size == 0, \"Batch Size does not evenly divide number of samples\"\n",
    "    batches_per_iter = int(features.shape[0] / batch_size)\n",
    "\n",
    "    # setup\n",
    "    \n",
    "    # yta: weights is large enough to store all weights after every batch\n",
    "    # batch = e.g. 10 datasamples that were used\n",
    "    # goal = track down weight reduction over iterations/batches\n",
    "    \n",
    "    # n = 100, iterations = 10, batch = 20 -> 5\n",
    "    weights = np.zeros([batches_per_iter * num_iterations + 1, initial_weights.shape[0]])\n",
    "    \n",
    "    # the current loss\n",
    "    loss = np.zeros(batches_per_iter * num_iterations + 1)\n",
    "    \n",
    "    # get initial weights and loss\n",
    "    weights[0] = initial_weights\n",
    "    loss[0]= objective_bern(weights[0], features, labels)\n",
    "\n",
    "    for iteration in range(num_iterations):\n",
    "     #--------------------------------------------------\n",
    "        # DONE: shuffle data\n",
    "        features, labels = unison_shuffled_copies(features, labels)\n",
    "        local_idx = 0\n",
    "        #--------------------------------------------------\n",
    "        for batch in range(batches_per_iter):\n",
    "            \n",
    "            # this is the index for weights\n",
    "            \n",
    "            # Iterations = 10, N = 100,Batch-Size = 20 -> Batches per Iteration: 5\n",
    "            global_idx = iteration * batches_per_iter + batch\n",
    "            \n",
    "            #--------------------------------------------------\n",
    "            # DONE: do stochastic gradient descent update!\n",
    "            \n",
    "            # DONE: pick the data you want to minimize\n",
    "            batch_range = range(local_idx, local_idx + batch_size)\n",
    "            cur_features, cur_labels = features[batch_range, :], labels[batch_range]\n",
    "            cur_weights = weights[global_idx]\n",
    "            \n",
    "            w_bce, _, _, _ = minimize(\n",
    "                        lambda w: objective_bern(cur_weights, cur_features, cur_labels),\n",
    "                        lambda w: d_objective_bern(cur_weights, cur_features, cur_labels),\n",
    "                        cur_weights, \n",
    "                        schedule(global_idx), \n",
    "                        10\n",
    "            )\n",
    "            \n",
    "            # DONE: store new and minimized weights\n",
    "            weights[global_idx+1] = w_bce\n",
    "            local_idx = local_idx + batch_size\n",
    "            \n",
    "            #--------------------------------------------------\n",
    "\n",
    "\n",
    "            # log loss (on all samples, usually you should not use all samples to evaluate after each stochastic\n",
    "            # update step)\n",
    "            loss[global_idx + 1] = objective_bern(weights[global_idx + 1], features, labels)\n",
    "            \n",
    "        \n",
    "   \n",
    "    return weights[-1], loss[-1], (weights, loss)\n",
    "\n"
   ]
  },
  {
   "cell_type": "markdown",
   "metadata": {},
   "source": [
    "The loss curve is expected to look a bit jerky due to the stochastic nature of stochastic gradient descent.\n",
    "If it goes down asymptotically its fine. Also, feel free to play around a bit with the schedule, num_iterations and\n",
    "batch_size to see how they affect the behaviour"
   ]
  },
  {
   "cell_type": "code",
   "execution_count": 29,
   "metadata": {
    "pycharm": {
     "name": "#%%\n"
    }
   },
   "outputs": [
    {
     "name": "stdout",
     "output_type": "stream",
     "text": [
      "Final loss 0.029767546003434023\n"
     ]
    },
    {
     "data": {
      "text/plain": [
       "[<matplotlib.lines.Line2D at 0xcfff390>]"
      ]
     },
     "execution_count": 29,
     "metadata": {},
     "output_type": "execute_result"
    },
    {
     "data": {
      "image/png": "[encoded data removed]",
      "text/plain": [
       "<Figure size 432x288 with 1 Axes>"
      ]
     },
     "metadata": {
      "needs_background": "light"
     },
     "output_type": "display_data"
    }
   ],
   "source": [
    "_, l, l_info = minimize_with_sgd(features, labels, np.zeros(features.shape[1]),\n",
    "                                 schedule=(lambda t: 0.25),\n",
    "                                 num_iterations=25,\n",
    "                                 batch_size=5)\n",
    "print(\"Final loss\", l)\n",
    "\n",
    "plt.figure()\n",
    "plt.title(\"Cross Entropy Loss\")\n",
    "plt.semilogy(l_info[1])"
   ]
  }
 ],
 "metadata": {
  "kernelspec": {
   "display_name": "Python 3",
   "language": "python",
   "name": "python3"
  },
  "language_info": {
   "codemirror_mode": {
    "name": "ipython",
    "version": 3
   },
   "file_extension": ".py",
   "mimetype": "text/x-python",
   "name": "python",
   "nbconvert_exporter": "python",
   "pygments_lexer": "ipython3",
   "version": "3.7.3"
  }
 },
 "nbformat": 4,
 "nbformat_minor": 4
}
